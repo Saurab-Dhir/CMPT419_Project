{
 "cells": [
  {
   "cell_type": "markdown",
   "metadata": {},
   "source": [
    "# Late-Fusion Model: Dempster-Shafer Theory with Conditional Discounting"
   ]
  },
  {
   "cell_type": "markdown",
   "metadata": {},
   "source": [
    "This model fuses classification results (evidences) from three modalities (tone, facial expressions, and semantics) to predict the overall emotion (as a probability distribution across each emotion). The model also applies discounting to reflect the varying reliability of each modality and to account for the inherent dominance of nonverbal cues in emotional communication."
   ]
  },
  {
   "cell_type": "code",
   "execution_count": 9,
   "metadata": {},
   "outputs": [],
   "source": [
    "from multimodal_classification_model import Evidence, MultiModalClassifier"
   ]
  },
  {
   "cell_type": "markdown",
   "metadata": {},
   "source": [
    "### Driver code"
   ]
  },
  {
   "cell_type": "code",
   "execution_count": 11,
   "metadata": {},
   "outputs": [
    {
     "name": "stdout",
     "output_type": "stream",
     "text": [
      "Evidence: Tone, facial expression, and semantics\n",
      "sad: 0.721\n",
      "neutral: 0.224\n",
      "angry: 0.014\n",
      "fearful: 0.014\n",
      "disgust: 0.014\n",
      "happy: 0.014\n"
     ]
    }
   ],
   "source": [
    "# Get outputs from the each clasifier\n",
    "tone = Evidence(emotion='sad', confidence=0.9, reliability=0.8)\n",
    "face = Evidence(emotion='sad', confidence=0.7, reliability=0.9)\n",
    "semantics = Evidence(emotion='neutral', confidence=0.8, reliability=0.9)\n",
    "\n",
    "model = MultiModalClassifier()\n",
    "betp = model.predict(tone, face, semantics)\n",
    "model.print_mass_function(betp, \"Tone, facial expression, and semantics\")"
   ]
  }
 ],
 "metadata": {
  "kernelspec": {
   "display_name": "venv",
   "language": "python",
   "name": "python3"
  },
  "language_info": {
   "codemirror_mode": {
    "name": "ipython",
    "version": 3
   },
   "file_extension": ".py",
   "mimetype": "text/x-python",
   "name": "python",
   "nbconvert_exporter": "python",
   "pygments_lexer": "ipython3",
   "version": "3.9.6"
  }
 },
 "nbformat": 4,
 "nbformat_minor": 2
}
